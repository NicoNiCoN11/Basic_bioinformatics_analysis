{
 "cells": [
  {
   "cell_type": "markdown",
   "id": "a93a5305",
   "metadata": {},
   "source": [
    "# 准备数据"
   ]
  },
  {
   "cell_type": "markdown",
   "id": "891ab9d7",
   "metadata": {},
   "source": [
    "首先准备带有标签（甲基化/非甲基化）的DNA序列数据作为训练集"
   ]
  },
  {
   "cell_type": "code",
   "execution_count": null,
   "id": "d0778c84",
   "metadata": {},
   "outputs": [],
   "source": [
    "training_data = "
   ]
  },
  {
   "cell_type": "code",
   "execution_count": null,
   "id": "c5dd9f6d",
   "metadata": {},
   "outputs": [],
   "source": []
  },
  {
   "cell_type": "code",
   "execution_count": null,
   "id": "c16d0d7f",
   "metadata": {},
   "outputs": [],
   "source": []
  },
  {
   "cell_type": "code",
   "execution_count": null,
   "id": "94aebbfb",
   "metadata": {},
   "outputs": [],
   "source": []
  },
  {
   "cell_type": "markdown",
   "id": "761a0b8a",
   "metadata": {},
   "source": [
    "# 数据预处理"
   ]
  },
  {
   "cell_type": "markdown",
   "id": "7b3287c7",
   "metadata": {},
   "source": [
    "将DNA序列数据转化成为计算机可以处理的特征向量，用one-hot编码，将ATCG转化为二进制特征"
   ]
  },
  {
   "cell_type": "code",
   "execution_count": 4,
   "id": "f48c816d",
   "metadata": {},
   "outputs": [],
   "source": [
    "def one_hot_encode(sequence):\n",
    "    encoding = {'A': [1, 0, 0, 0], 'C': [0, 1, 0, 0], 'G': [0, 0, 1, 0], 'T': [0, 0, 0, 1]}"
   ]
  },
  {
   "cell_type": "code",
   "execution_count": 5,
   "id": "442e5e0e",
   "metadata": {},
   "outputs": [],
   "source": [
    "from Bio import SeqIO"
   ]
  },
  {
   "cell_type": "code",
   "execution_count": 18,
   "id": "dd2a4a0d",
   "metadata": {},
   "outputs": [],
   "source": [
    "# 使用biopython解析fasta文件\n",
    "def read_fna(file_path):\n",
    "    sequences = []\n",
    "    with open(file_path, \"r\") as handle:\n",
    "        for record in SeqIO.parse(handle, \"fasta\"):\n",
    "            sequences.append(str(record.seq))\n",
    "    return sequences"
   ]
  },
  {
   "cell_type": "code",
   "execution_count": 19,
   "id": "8bd6cb98",
   "metadata": {},
   "outputs": [],
   "source": [
    "file_path = \"EGFR_datasets/ncbi_dataset/data/gene.fna\""
   ]
  },
  {
   "cell_type": "code",
   "execution_count": 23,
   "id": "6ef90604",
   "metadata": {},
   "outputs": [],
   "source": [
    "DNA_sequence = read_fna(file_path)"
   ]
  },
  {
   "cell_type": "code",
   "execution_count": null,
   "id": "a145ac22",
   "metadata": {},
   "outputs": [],
   "source": []
  },
  {
   "cell_type": "markdown",
   "id": "9987ba80",
   "metadata": {},
   "source": [
    "# 构建和训练模型"
   ]
  },
  {
   "cell_type": "code",
   "execution_count": 24,
   "id": "c717959f",
   "metadata": {},
   "outputs": [],
   "source": [
    "from sklearn.ensemble import RandomForestClassifier\n",
    "from sklearn.model_selection import train_test_split\n",
    "from sklearn.metrics import accuracy_score"
   ]
  },
  {
   "cell_type": "code",
   "execution_count": 25,
   "id": "3c39033a",
   "metadata": {},
   "outputs": [
    {
     "ename": "NameError",
     "evalue": "name 'features' is not defined",
     "output_type": "error",
     "traceback": [
      "\u001b[0;31m---------------------------------------------------------------------------\u001b[0m",
      "\u001b[0;31mNameError\u001b[0m                                 Traceback (most recent call last)",
      "Cell \u001b[0;32mIn[25], line 2\u001b[0m\n\u001b[1;32m      1\u001b[0m \u001b[38;5;66;03m# 示例数据\u001b[39;00m\n\u001b[0;32m----> 2\u001b[0m X_train, X_test, y_train, y_test \u001b[38;5;241m=\u001b[39m train_test_split(features, labels, test_size\u001b[38;5;241m=\u001b[39m\u001b[38;5;241m0.2\u001b[39m, random_state\u001b[38;5;241m=\u001b[39m\u001b[38;5;241m42\u001b[39m)\n",
      "\u001b[0;31mNameError\u001b[0m: name 'features' is not defined"
     ]
    }
   ],
   "source": [
    "# 示例数据\n",
    "X_train, X_test, y_train, y_test = train_test_split(features, labels, test_size=0.2, random_state=42)"
   ]
  },
  {
   "cell_type": "code",
   "execution_count": null,
   "id": "85b55fa3",
   "metadata": {},
   "outputs": [],
   "source": [
    "# 构建随机森林分类器\n",
    "clf = RandomForestClassifier(n_estimators=100, random_state=42)"
   ]
  },
  {
   "cell_type": "code",
   "execution_count": null,
   "id": "ede736e6",
   "metadata": {},
   "outputs": [],
   "source": [
    "# 训练模型\n",
    "clf.fit(X_train, y_train)"
   ]
  },
  {
   "cell_type": "code",
   "execution_count": null,
   "id": "ed433223",
   "metadata": {},
   "outputs": [],
   "source": [
    "# 评估模型性能\n",
    "accuracy = accuracy_score(y_test, predictions)\n",
    "print(\"Accuracy:\", accuracy)"
   ]
  },
  {
   "cell_type": "markdown",
   "id": "20a4cfde",
   "metadata": {},
   "source": [
    "# 预测DNA序列的甲基化位点"
   ]
  },
  {
   "cell_type": "code",
   "execution_count": null,
   "id": "c83e83c8",
   "metadata": {},
   "outputs": [],
   "source": [
    "# 准备待预测的DNA序列（需要进行one-hot编码）\n",
    "new_dna_sequence = \"ATCG\"\n",
    "encoded_sequence = one_hot_encode(new_dna_sequence)"
   ]
  },
  {
   "cell_type": "code",
   "execution_count": null,
   "id": "feb2af63",
   "metadata": {},
   "outputs": [],
   "source": [
    "# 预测\n",
    "prediction = clf.predict([encoded_sequence])"
   ]
  },
  {
   "cell_type": "code",
   "execution_count": null,
   "id": "80c62d06",
   "metadata": {},
   "outputs": [],
   "source": [
    "# 打印预测结果\n",
    "for i, sequence in enumerate(dna_sequences):\n",
    "    if predictions[i] == 1:\n",
    "        print(f\"DNA序列 '{sequence}' 包含甲基化位点。\")\n",
    "    else:\n",
    "        print(f\"DNA序列 '{sequence}' 不包含甲基化位点。\")"
   ]
  },
  {
   "cell_type": "code",
   "execution_count": null,
   "id": "1e91e5f5",
   "metadata": {},
   "outputs": [],
   "source": []
  }
 ],
 "metadata": {
  "kernelspec": {
   "display_name": "Python 3 (ipykernel)",
   "language": "python",
   "name": "python3"
  },
  "language_info": {
   "codemirror_mode": {
    "name": "ipython",
    "version": 3
   },
   "file_extension": ".py",
   "mimetype": "text/x-python",
   "name": "python",
   "nbconvert_exporter": "python",
   "pygments_lexer": "ipython3",
   "version": "3.11.5"
  },
  "toc": {
   "base_numbering": 1,
   "nav_menu": {},
   "number_sections": true,
   "sideBar": true,
   "skip_h1_title": false,
   "title_cell": "Table of Contents",
   "title_sidebar": "Contents",
   "toc_cell": false,
   "toc_position": {},
   "toc_section_display": true,
   "toc_window_display": false
  }
 },
 "nbformat": 4,
 "nbformat_minor": 5
}
